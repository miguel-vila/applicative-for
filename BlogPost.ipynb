{
 "cells": [
  {
   "cell_type": "markdown",
   "metadata": {},
   "source": [
    "# Towards an Applicative for macro\n",
    "\n",
    "Some time ago with the release of the Haskell's [Haxl](https://hackage.haskell.org/package/haxl) library the same authors realized that the `do` notation in Haskell may need some improvements. The `do` notation can be used to \"flatten\" deep nestings of `>>=` applications in Haskell. For example instead of writting something like this:\n",
    "\n",
    "```haskell\n",
    "findVal :: String -> Maybe Int\n",
    "findVal key = ... -- some function definition\n",
    "\n",
    "sum :: Maybe Int\n",
    "sum = (findVal \"key1\") >>= (\\val1 -> (findVal \"key2\") >>= (\\val2 -> return (val1 + val2))))\n",
    "```\n",
    "you can write:\n",
    "\n",
    "```haskell\n",
    "sum :: Maybe Int\n",
    "sum = do val1 <- findVal \"key1\"\n",
    "         val2 <- findVal \"key2\"\n",
    "         return (val1 + val2)\n",
    "```\n",
    "\n",
    "This makes it easier to read the expression and to understand what's going on. Haskell's compiler simply desugars this notation to `>>=` applications. The `do` notation is specially readable because you can interpret it as follows: At the left side of a `<-` you will find the \"extracted\" value of the monadic value at the right side.\n",
    "\n",
    "Now as you may have noticed in this example we are not using the whole power of the `Monad` typeclass. We are just calling `>>=` because we want to have the values inside the monadic values in the same place so we can express our desired computation: `(val1 + val2)`. But `Monad` is more powerful than that. For example we can express something like this:\n",
    "\n",
    "```haskell\n",
    "do val1 <- findVal \"key1\"\n",
    "   val2 <- findVal (\"key\" ++ show val1)\n",
    "   return val2\n",
    "```\n",
    "\n",
    "In this case the second monadic value depends on the result of the first monadic value. Unlike the previous example this can only be achieved with something as powerful as `Monad`.\n",
    "\n",
    "When programming you want to use the least powerful abstraction and in functional programming this translates into using the most general typeclass so your function can be reused in many situations. In this case the least powerful abstraction that allows us to join values in different contexts into one is `Applicative`. So we could rewrite the first example like this:\n",
    "\n",
    "```haskell\n",
    "add x y = x + y\n",
    "\n",
    "sum = add <$> (findVal \"key1\") <*> (findVal \"key2\")\n",
    "```\n",
    "\n",
    "If you are thinking this is less readable than the `do` version you are on to something. As it turns out for the `Maybe` monad there is not much difference between choosing one style or the other because both alternatives have a similar performance. But there are other monads in which it is preferrable to use `Applicative` when possible. The first one that comes to my mind is precisely Haxl's `Fetch` monad. With `Fetch` applicative independent computations can be done concurrently and even more if they access the same data source then the query can be batched.\n",
    "\n",
    "For instance in the following situation:\n",
    "\n",
    "```haskell\n",
    "fetchData :: String -> Fetch Data\n",
    "fetchData key = ... -- build fetch value\n",
    "\n",
    "join x y = (x,y)\n",
    "\n",
    "dataTuple :: (Data,Data)\n",
    "dataTuple = join <$> fetchData \"key1\" <*> fetchData \"key2\"\n",
    "```\n",
    "\n",
    "The same final result can be expressed with `do`:\n",
    "\n",
    "```haskell\n",
    "do data1 <- fetchData \"key1\"\n",
    "   data2 <- fetchData \"key2\"\n",
    "   return (data1,data2)\n",
    "```\n",
    "\n",
    "But there is a catch: given that in this situation the `do` expression is desugared into `>>=` applications then the fetches are done sequentially. This is because the first monadic value must be computed before computing the one in the second line. Thus, by trying to use a more intuitive and readable notation we are incurring in a performance cost. \n",
    "\n",
    "But the problem is not just readability. When you are making changes to a codebase you must be aware that the change may allow you to use `Applicative` instead of monad. This may happen if, for example you are changing a line of a `do` expression.\n",
    "\n",
    "Wouldn't it be cool that `do` expressions would use `Monad` just when they are strictly necessary and `Applicative` were possible? This would allow us to always use the `do` notation without having to worry if we are using the correct typeclass. This is precisely the topic of Haxl's follow-up [paper](http://research.microsoft.com/en-us/um/people/simonpj/papers/list-comp/applicativedo.pdf). There is a [proposal](https://ghc.haskell.org/trac/ghc/wiki/ApplicativeDo) in the Haskell community to desugar using `Applicative` when possible.\n",
    "\n",
    "Now, let's see in Scala how useful this could be. Remember that Scala's `for` comprehensions are similar to Haskell's `do` expressions.\n",
    "\n",
    "Let's start with our very own definition of a `Validation` which will be similar to Scalaz's `ValidationNel` or Cat's `ValidatedNel`:"
   ]
  },
  {
   "cell_type": "code",
   "execution_count": 1,
   "metadata": {
    "collapsed": false
   },
   "outputs": [
    {
     "data": {
      "text/plain": [
       "defined \u001b[32mtrait \u001b[36mValidation\u001b[0m\n",
       "defined \u001b[32mclass \u001b[36mSuccess\u001b[0m\n",
       "defined \u001b[32mclass \u001b[36mFailure\u001b[0m"
      ]
     },
     "metadata": {},
     "output_type": "display_data"
    }
   ],
   "source": [
    "sealed trait Validation[+A] {\n",
    "    def flatMap[B](f: A => Validation[B]): Validation[B] = this match {\n",
    "        case Success(value) => f(value)\n",
    "        case Failure(error) => Failure(error)\n",
    "    }\n",
    "    def map[B](f: A => B): Validation[B] = flatMap(a => Success(f(a)))\n",
    "}\n",
    "case class Success[A](value: A) extends Validation[A]\n",
    "case class Failure(errors: List[String]) extends Validation[Nothing]"
   ]
  },
  {
   "cell_type": "markdown",
   "metadata": {},
   "source": [
    "Now let's define the `Monad` and `Applicative` typeclasses and then describe the instances for `Validation`:"
   ]
  },
  {
   "cell_type": "code",
   "execution_count": 2,
   "metadata": {
    "collapsed": false
   },
   "outputs": [
    {
     "data": {
      "text/plain": [
       "defined \u001b[32mtrait \u001b[36mMonad\u001b[0m\n",
       "defined \u001b[32mtrait \u001b[36mApplicative\u001b[0m\n",
       "defined \u001b[32mobject \u001b[36mValidationMonad\u001b[0m\n",
       "defined \u001b[32mobject \u001b[36mValidationApplicative\u001b[0m"
      ]
     },
     "metadata": {},
     "output_type": "display_data"
    }
   ],
   "source": [
    "trait Monad[F[_]] {\n",
    "    def unit[A](a: A): F[A]\n",
    "    def flatMap[A,B](fa: F[A])(f: A => F[B]): F[B]\n",
    "}\n",
    "\n",
    "trait Applicative[F[_]] {\n",
    "    def pure[A](a: A): F[A]\n",
    "    def map2[A,B,C](fa: F[A], fb: F[B])(f: (A,B) => C): F[C]\n",
    "}\n",
    "\n",
    "implicit object ValidationMonad extends Monad[Validation] {\n",
    "    def unit[A](a: A) = Success(a)\n",
    "    def flatMap[A,B](va: Validation[A])(f: A => Validation[B]): Validation[B] =\n",
    "        va.flatMap(f)\n",
    "}\n",
    "\n",
    "implicit object ValidationApplicative extends Applicative[Validation] {\n",
    "    def pure[A](a: A) = Success(a)\n",
    "    def map2[A,B,C](va: Validation[A], vb: Validation[B])(f: (A,B) => C): Validation[C] = {\n",
    "        (va, vb) match {\n",
    "            case (Success(a) , Success(b) ) => Success(f(a,b))\n",
    "            case (Failure(ea), Failure(eb)) => Failure(ea ++ eb)\n",
    "            case (Failure(ea), _          ) => Failure(ea)\n",
    "            case (_          , Failure(eb)) => Failure(eb)            \n",
    "        }\n",
    "    }\n",
    "}"
   ]
  },
  {
   "cell_type": "markdown",
   "metadata": {},
   "source": [
    "As you may have noticed my definition of `Applicative` is a little bit different from the usual formulation which defines a function `ap` (with type `F[A => B] => F[A] => F[B]`). As it turns out both formulations are equivalent: you can convince yourself by implementing one in terms of the other.\n",
    "\n",
    "Another thing to notice is that when `flatMap` fails it will fail with the error of the first `Validation` value. In contrast the `Applicative` instance says that if both of the values are failed then we can accumulate them.\n",
    "\n",
    "Let's see an example. First with `flatMap`:"
   ]
  },
  {
   "cell_type": "code",
   "execution_count": 3,
   "metadata": {
    "collapsed": false
   },
   "outputs": [
    {
     "data": {
      "text/plain": [
       "\u001b[36mv1\u001b[0m: \u001b[32mValidation\u001b[0m[\u001b[32mInt\u001b[0m] = Failure(List(error1))\n",
       "\u001b[36mv2\u001b[0m: \u001b[32mValidation\u001b[0m[\u001b[32mInt\u001b[0m] = Failure(List(error2))\n",
       "\u001b[36mwithFlatMap\u001b[0m: \u001b[32mValidation\u001b[0m[\u001b[32mInt\u001b[0m] = Failure(List(error1))"
      ]
     },
     "metadata": {},
     "output_type": "display_data"
    }
   ],
   "source": [
    "val v1: Validation[Int] = Failure(List(\"error1\"))\n",
    "val v2: Validation[Int] = Failure(List(\"error2\"))\n",
    "\n",
    "val withFlatMap = for {\n",
    "    x <- v1\n",
    "    y <- v2\n",
    "} yield x + y"
   ]
  },
  {
   "cell_type": "markdown",
   "metadata": {},
   "source": [
    "In this case the error in the result value is the one in the first validation. But given that the value `v2` doesn't depend on the value `x` couldn't we report also the failure of `v2`? Let's see  what `Applicative` can do:"
   ]
  },
  {
   "cell_type": "code",
   "execution_count": 4,
   "metadata": {
    "collapsed": false
   },
   "outputs": [
    {
     "data": {
      "text/plain": [
       "\u001b[36mwithApplicative\u001b[0m: \u001b[32mValidation\u001b[0m[\u001b[32mInt\u001b[0m] = Failure(List(error1, error2))"
      ]
     },
     "metadata": {},
     "output_type": "display_data"
    }
   ],
   "source": [
    "val withApplicative = ValidationApplicative.map2(v1,v2)(_ + _)"
   ]
  },
  {
   "cell_type": "markdown",
   "metadata": {},
   "source": [
    "Now, let's imagine we have a web form with a bunch of fields, each one of which has to be validated. But when the form is submitted and contains errors we don't want to bother the user by just reporting the first error. We would like to report the majority of independent errors:\n",
    "\n",
    "```scala\n",
    "for {\n",
    "    okFirstName <- validateFirstNameField\n",
    "    okLastName  <- validateLastNameField\n",
    "    okFullName  <- validateFullName(okFirstName, okLastName)\n",
    "    okAge       <- validateAge\n",
    "} yield NewUserData(okFirstName, okLastName, okFullName, okAge)\n",
    "```\n",
    "\n",
    "If we used a for comprehension we would be making a mistake because if there is one error only that one is going to be returned. We can use Applicative and some syntactic sugar like the one in Scalaz to get something like this:\n",
    "\n",
    "```scala\n",
    "for {\n",
    "    (okFirstName, okLastName, okAge) <- (validateFirstNameField |@| validateLastNameField |@| validateAge).tupled\n",
    "    okFullName                       <- validateFullName(okFirstName, okLastName)\n",
    "} yield NewUserData(okFirstName, okLastName, okFullName, okAge)\n",
    "```\n",
    "\n",
    "This works but it may be less readable. More importantly this is more brittle to future changes and coupled to the current computation structure. You can imagine what may happen with more fields and more complex dependencies between those fields.\n",
    "\n",
    "## Towards an Applicative macro\n",
    "\n",
    "I would be very useful if this could be done automatically by the compiler. In Scala the for comprehensions syntax is just another phase of the compiler. So when a macro inspects this code it will be already desugared into a nested sequence of `flatMap`s and `map`s. Let's see if we can build a macro that replaces `flatMap`s and `map`s by `map2`s when possible. \n",
    "\n",
    "We are going to start with a very simple example:"
   ]
  },
  {
   "cell_type": "code",
   "execution_count": 5,
   "metadata": {
    "collapsed": false
   },
   "outputs": [
    {
     "data": {
      "text/plain": [
       "\u001b[36mv1\u001b[0m: \u001b[32mValidation\u001b[0m[\u001b[32mInt\u001b[0m] = Failure(List(error1))\n",
       "\u001b[36mv2\u001b[0m: \u001b[32mValidation\u001b[0m[\u001b[32mInt\u001b[0m] = Failure(List(error2))\n",
       "\u001b[36mres4_2\u001b[0m: \u001b[32mValidation\u001b[0m[\u001b[32mInt\u001b[0m] = Failure(List(error1))"
      ]
     },
     "metadata": {},
     "output_type": "display_data"
    }
   ],
   "source": [
    "val v1: Validation[Int] = Failure(List(\"error1\"))\n",
    "val v2: Validation[Int] = Failure(List(\"error2\"))\n",
    "\n",
    "for {\n",
    "    x <- v1\n",
    "    y <- v2\n",
    "} yield x + y"
   ]
  },
  {
   "cell_type": "markdown",
   "metadata": {},
   "source": [
    "Let's inspect the tree generated by this for comprehension:"
   ]
  },
  {
   "cell_type": "code",
   "execution_count": 6,
   "metadata": {
    "collapsed": false
   },
   "outputs": [
    {
     "data": {
      "text/plain": [
       "\u001b[32mimport \u001b[36mscala.reflect.runtime.universe._\u001b[0m\n",
       "\u001b[36mtree\u001b[0m: \u001b[32mreflect\u001b[0m.\u001b[32mruntime\u001b[0m.\u001b[32mpackage\u001b[0m.\u001b[32muniverse\u001b[0m.\u001b[32mTree\u001b[0m = cmd5.$ref$cmd4.v1.flatMap(((x) => cmd5.$ref$cmd4.v2.map(((y) => x.$plus(y)))))\n",
       "\u001b[36mres5_2\u001b[0m: \u001b[32mString\u001b[0m = \u001b[32m\"\"\"\n",
       "Apply(Select(Select(Select(Ident(TermName(\"cmd5\")), TermName(\"$ref$cmd4\")), TermName(\"v1\")), TermName(\"flatMap\")), List(Function(List(ValDef(Modifiers(PARAM), TermName(\"x\"), TypeTree(), EmptyTree)), Apply(Select(Select(Select(Ident(TermName(\"cmd5\")), TermName(\"$ref$cmd4\")), TermName(\"v2\")), TermName(\"map\")), List(Function(List(ValDef(Modifiers(PARAM), TermName(\"y\"), TypeTree(), EmptyTree)), Apply(Select(Ident(TermName(\"x\")), TermName(\"$plus\")), List(Ident(TermName(\"y\"))))))))))\n",
       "\"\"\"\u001b[0m"
      ]
     },
     "metadata": {},
     "output_type": "display_data"
    }
   ],
   "source": [
    "import scala.reflect.runtime.universe._\n",
    "\n",
    "val tree = reify {\n",
    "    for {\n",
    "        x <- v1\n",
    "        y <- v2\n",
    "    } yield x + y\n",
    "}.tree\n",
    "\n",
    "showRaw(tree)"
   ]
  },
  {
   "cell_type": "markdown",
   "metadata": {},
   "source": [
    "The part that interests us is the `flatMap` application:"
   ]
  },
  {
   "cell_type": "code",
   "execution_count": 7,
   "metadata": {
    "collapsed": false
   },
   "outputs": [
    {
     "data": {
      "text/plain": [
       "\u001b[36mfirstMonadicValue\u001b[0m: \u001b[32mTree\u001b[0m = cmd5.$ref$cmd4.v1\n",
       "\u001b[36mfunctionDef\u001b[0m: \u001b[32mTree\u001b[0m = ((x) => cmd5.$ref$cmd4.v2.map(((y) => x.$plus(y))))"
      ]
     },
     "metadata": {},
     "output_type": "display_data"
    }
   ],
   "source": [
    "val Apply(Select(firstMonadicValue, TermName(\"flatMap\")), List(functionDef)) = tree"
   ]
  },
  {
   "cell_type": "markdown",
   "metadata": {},
   "source": [
    "Now we must separate the function into it's argument and it's body:"
   ]
  },
  {
   "cell_type": "code",
   "execution_count": 8,
   "metadata": {
    "collapsed": false
   },
   "outputs": [
    {
     "data": {
      "text/plain": [
       "\u001b[36mres7_0\u001b[0m: \u001b[32mString\u001b[0m = \u001b[32m\"\"\"\n",
       "Function(List(ValDef(Modifiers(PARAM), TermName(\"x\"), TypeTree(), EmptyTree)), Apply(Select(Select(Select(Ident(TermName(\"cmd5\")), TermName(\"$ref$cmd4\")), TermName(\"v2\")), TermName(\"map\")), List(Function(List(ValDef(Modifiers(PARAM), TermName(\"y\"), TypeTree(), EmptyTree)), Apply(Select(Ident(TermName(\"x\")), TermName(\"$plus\")), List(Ident(TermName(\"y\"))))))))\n",
       "\"\"\"\u001b[0m\n",
       "\u001b[36mfirstArgumentTerm\u001b[0m: \u001b[32mValDef\u001b[0m = val x = _\n",
       "\u001b[36mfunctionBody\u001b[0m: \u001b[32mTree\u001b[0m = cmd5.$ref$cmd4.v2.map(((y) => x.$plus(y)))"
      ]
     },
     "metadata": {},
     "output_type": "display_data"
    }
   ],
   "source": [
    "showRaw(functionDef)\n",
    "val Function(List(firstArgumentTerm), functionBody) = functionDef \n",
    "//               ^ only works for functions of arity one, which works for map and flatMap"
   ]
  },
  {
   "cell_type": "markdown",
   "metadata": {},
   "source": [
    "Now, if the `functionBody` consists in calling `map` or `flatMap` over some expression, then we must identify if that expression uses `termArgument`. If that's the case then we can't do anything, one expression depends on the other and `flatMap` is the right function. But if not, then that's an opportunity to use `Applicative`'s `ap` instead of `Monad`'s `flatMap`/`bind`. Let's first define a function `usesTerm` that will indicate if a term is used in a expression:"
   ]
  },
  {
   "cell_type": "code",
   "execution_count": 9,
   "metadata": {
    "collapsed": false
   },
   "outputs": [
    {
     "data": {
      "text/plain": [
       "defined \u001b[32mfunction \u001b[36musesTerm\u001b[0m"
      ]
     },
     "metadata": {},
     "output_type": "display_data"
    }
   ],
   "source": [
    "def usesTerm(term: ValDef, exp: Tree): Boolean = {\n",
    "    val ValDef(_,termName,_,_) = term\n",
    "    //println(s\"**${showRaw(term)}\")\n",
    "    exp.find{ x => \n",
    "             //println(s\"--${showRaw(x)}\")\n",
    "             x match {\n",
    "                case Ident(_termName) if termName == _termName => \n",
    "                    true\n",
    "                case _ => \n",
    "                    false\n",
    "             }\n",
    "    }.isDefined\n",
    "}"
   ]
  },
  {
   "cell_type": "markdown",
   "metadata": {},
   "source": [
    "Now let's separate the `functionBody` into two parts: the second monadic value and the next function definition"
   ]
  },
  {
   "cell_type": "code",
   "execution_count": 10,
   "metadata": {
    "collapsed": false
   },
   "outputs": [
    {
     "data": {
      "text/plain": [
       "\u001b[36mres9_0\u001b[0m: \u001b[32mString\u001b[0m = \u001b[32m\"\"\"\n",
       "Apply(Select(Select(Select(Ident(TermName(\"cmd5\")), TermName(\"$ref$cmd4\")), TermName(\"v2\")), TermName(\"map\")), List(Function(List(ValDef(Modifiers(PARAM), TermName(\"y\"), TypeTree(), EmptyTree)), Apply(Select(Ident(TermName(\"x\")), TermName(\"$plus\")), List(Ident(TermName(\"y\")))))))\n",
       "\"\"\"\u001b[0m\n",
       "\u001b[36msecondMonadicValue\u001b[0m: \u001b[32mTree\u001b[0m = cmd5.$ref$cmd4.v2\n",
       "\u001b[36msecondFunctionDef\u001b[0m: \u001b[32mTree\u001b[0m = ((y) => x.$plus(y))\n",
       "\u001b[36mres9_2\u001b[0m: \u001b[32mString\u001b[0m = \u001b[32m\"\"\"\n",
       "ValDef(Modifiers(PARAM), TermName(\"x\"), TypeTree(), EmptyTree)\n",
       "\"\"\"\u001b[0m"
      ]
     },
     "metadata": {},
     "output_type": "display_data"
    }
   ],
   "source": [
    "showRaw(functionBody)\n",
    "val Apply(Select(secondMonadicValue, TermName(\"map\")), List(secondFunctionDef)) = functionBody\n",
    "showRaw(firstArgumentTerm)"
   ]
  },
  {
   "cell_type": "markdown",
   "metadata": {},
   "source": [
    "And we are interested in answering the question: is the \"extracted\" value for the first monad being used when defining the second monadic value?"
   ]
  },
  {
   "cell_type": "code",
   "execution_count": 11,
   "metadata": {
    "collapsed": false
   },
   "outputs": [
    {
     "data": {
      "text/plain": [
       "\u001b[36mres10\u001b[0m: \u001b[32mBoolean\u001b[0m = \u001b[32mfalse\u001b[0m"
      ]
     },
     "metadata": {},
     "output_type": "display_data"
    }
   ],
   "source": [
    "usesTerm(firstArgumentTerm, secondMonadicValue)"
   ]
  },
  {
   "cell_type": "markdown",
   "metadata": {},
   "source": [
    "Ok so as we can see for computing the second term we don't need the function argument. So we want to transform this `flatMap`->`map` call into an `Applicative`'s `map2` call. For this we will need to extract the innermost expression of the for comprehension, that is the `x+y` expression. After that we will have to build the `map2` call passing the appropiate arguments. So first let's extract that expression from `nextFunctionDef`: "
   ]
  },
  {
   "cell_type": "code",
   "execution_count": 12,
   "metadata": {
    "collapsed": false
   },
   "outputs": [
    {
     "data": {
      "text/plain": [
       "\u001b[36mres11_0\u001b[0m: \u001b[32mString\u001b[0m = \u001b[32m\"\"\"\n",
       "Function(List(ValDef(Modifiers(PARAM), TermName(\"y\"), TypeTree(), EmptyTree)), Apply(Select(Ident(TermName(\"x\")), TermName(\"$plus\")), List(Ident(TermName(\"y\")))))\n",
       "\"\"\"\u001b[0m\n",
       "\u001b[36msecondArgumentTerm\u001b[0m: \u001b[32mValDef\u001b[0m = val y = _\n",
       "\u001b[36minnerExpr\u001b[0m: \u001b[32mTree\u001b[0m = x.$plus(y)"
      ]
     },
     "metadata": {},
     "output_type": "display_data"
    }
   ],
   "source": [
    "showRaw(secondFunctionDef)\n",
    "val Function(List(secondArgumentTerm), innerExpr) = secondFunctionDef"
   ]
  },
  {
   "cell_type": "markdown",
   "metadata": {},
   "source": [
    "This are all the ingredients we need:"
   ]
  },
  {
   "cell_type": "code",
   "execution_count": 13,
   "metadata": {
    "collapsed": false
   },
   "outputs": [
    {
     "data": {
      "text/plain": [
       "\u001b[36mres12_0\u001b[0m: \u001b[32mString\u001b[0m = \u001b[32m\"\"\"\n",
       "Select(Select(Ident(TermName(\"cmd5\")), TermName(\"$ref$cmd4\")), TermName(\"v1\"))\n",
       "\"\"\"\u001b[0m\n",
       "\u001b[36mres12_1\u001b[0m: \u001b[32mString\u001b[0m = \u001b[32m\"\"\"\n",
       "ValDef(Modifiers(PARAM), TermName(\"x\"), TypeTree(), EmptyTree)\n",
       "\"\"\"\u001b[0m\n",
       "\u001b[36mres12_2\u001b[0m: \u001b[32mString\u001b[0m = \u001b[32m\"\"\"\n",
       "Select(Select(Ident(TermName(\"cmd5\")), TermName(\"$ref$cmd4\")), TermName(\"v2\"))\n",
       "\"\"\"\u001b[0m\n",
       "\u001b[36mres12_3\u001b[0m: \u001b[32mString\u001b[0m = \u001b[32m\"\"\"\n",
       "ValDef(Modifiers(PARAM), TermName(\"y\"), TypeTree(), EmptyTree)\n",
       "\"\"\"\u001b[0m\n",
       "\u001b[36mres12_4\u001b[0m: \u001b[32mString\u001b[0m = \u001b[32m\"\"\"\n",
       "Apply(Select(Ident(TermName(\"x\")), TermName(\"$plus\")), List(Ident(TermName(\"y\"))))\n",
       "\"\"\"\u001b[0m"
      ]
     },
     "metadata": {},
     "output_type": "display_data"
    }
   ],
   "source": [
    "showRaw(firstMonadicValue)\n",
    "showRaw(firstArgumentTerm)\n",
    "showRaw(secondMonadicValue)\n",
    "showRaw(secondArgumentTerm)\n",
    "showRaw(innerExpr)"
   ]
  },
  {
   "cell_type": "code",
   "execution_count": 15,
   "metadata": {
    "collapsed": false
   },
   "outputs": [
    {
     "data": {
      "text/plain": [
       "\u001b[36mresult\u001b[0m: \u001b[32mTree\u001b[0m = ValidationApplicative.map2(cmd5.$ref$cmd4.v1, cmd5.$ref$cmd4.v2, ((x, y) => x.$plus(y)))\n",
       "\u001b[36mres14_1\u001b[0m: \u001b[32mString\u001b[0m = \u001b[32m\"\"\"\n",
       "Apply(Select(Ident(TermName(\"ValidationApplicative\")), TermName(\"map2\")), List(Select(Select(Ident(TermName(\"cmd5\")), TermName(\"$ref$cmd4\")), TermName(\"v1\")), Select(Select(Ident(TermName(\"cmd5\")), TermName(\"$ref$cmd4\")), TermName(\"v2\")), Function(List(ValDef(Modifiers(PARAM), TermName(\"x\"), TypeTree(), EmptyTree), ValDef(Modifiers(PARAM), TermName(\"y\"), TypeTree(), EmptyTree)), Apply(Select(Ident(TermName(\"x\")), TermName(\"$plus\")), List(Ident(TermName(\"y\")))))))\n",
       "\"\"\"\u001b[0m"
      ]
     },
     "metadata": {},
     "output_type": "display_data"
    }
   ],
   "source": [
    "val result = q\"\"\"\n",
    "ValidationApplicative.map2(\n",
    "    $firstMonadicValue,\n",
    "    $secondMonadicValue,\n",
    "    ${Function(List(firstArgumentTerm, secondArgumentTerm), innerExpr)}\n",
    ")\n",
    "\"\"\"\n",
    "showRaw(result)"
   ]
  },
  {
   "cell_type": "markdown",
   "metadata": {},
   "source": [
    "Unfortunately I haven't found a way to compile and execute expressions from the REPL."
   ]
  }
 ],
 "metadata": {
  "kernelspec": {
   "display_name": "Scala 2.11",
   "language": "scala211",
   "name": "scala211"
  },
  "language_info": {
   "codemirror_mode": "text/x-scala",
   "file_extension": ".scala",
   "mimetype": "text/x-scala",
   "name": "scala211",
   "pygments_lexer": "scala",
   "version": "2.11.8"
  }
 },
 "nbformat": 4,
 "nbformat_minor": 1
}
